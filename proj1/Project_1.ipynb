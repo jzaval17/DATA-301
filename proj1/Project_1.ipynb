{
  "cells": [
    {
      "cell_type": "markdown",
      "metadata": {
        "id": "uAACZwQYf1Qy"
      },
      "source": [
        "\n",
        "**Comparative Performance Analysis for Predicting Sea Level Rise Using Linear Regression and Support Vector Machine**\n",
        "Objective:\n",
        "In this assignment, you will analyze sea level data to predict the rise in sea levels over time using linear regression and support vector machine (SVM). You will perform data cleaning, modeling, and visualize the results. Your predictions will be used to estimate future sea levels.\n",
        "\n",
        "**Deliverable** Upload your completed code to Canvas within the due date.\n",
        "\n",
        "Dataset:\n",
        "The dataset contains historical data on sea level measurements from the CSIRO (Commonwealth Scientific and Industrial Research Organisation). The columns of the dataset are as follows:\n",
        "\n",
        "-- Year: The year of the measurement.\n",
        "\n",
        "-- CSIRO Adjusted Sea Level: The adjusted sea level measurement (in millimeters).\n",
        "\n",
        "-- Lower Error Bound: The lower bound of the sea level measurement.\n",
        "\n",
        "-- Upper Error Bound: The upper bound of the sea level measurement.\n",
        "\n",
        "-- NOAA Adjusted Sea Level: The NOAA adjusted sea level (containing missing values).\n",
        "\n",
        "### Tasks: Write the code for each of the following:\n",
        "\n",
        "* Task 1: Data Exploration and Preprocessing\n",
        "\n",
        "-- Load and Explore the Data:\n",
        "\n",
        "-- Load the dataset into a Pandas DataFrame.\n",
        "\n",
        "-- Display the first few rows of the dataset to understand its structure.\n",
        "\n",
        "-- Identify and handle any missing data.\n",
        "\n",
        "-- Describe the dataset and summarize the statistics:\n",
        "\n",
        "\n",
        "-- Identify any potential outliers or anomalies in the data.\n",
        "\n",
        "\n",
        "\n",
        "* Task 2: Focused Prediction from Year 2000 to Present\n",
        "\n",
        "\n",
        "\n",
        "-- Filter the data from the year 2000 to the most recent year available in the dataset.\n",
        "\n",
        "-- Shuffle the dataset and Split the dataset into 70% train and 30% test.\n",
        "\n",
        "-- Fit a linear regression and SVM model based on the 70% of the dataset (from 2000 to the most recent year). Use the SKLearn library.\n",
        "\n",
        "-- Visualize the observed data and the fitted regression line for this range of years.\n",
        "\n",
        "-- Display the values of all the weights (coefficients) obtained from Linear Regression and SVM.\n",
        "\n",
        "* Task 3: Predict Sea Level in 2040 Using the SVM and Linear Regression:\n",
        "\n",
        "-- Using the linear regression model and SVM (from the year 2000 onwards), predict the sea level rise using the 30% test.\n",
        "\n",
        "-- Report the predicted sea levels from both the models.\n",
        "\n",
        "* Task 4: Reflection and Analysis\n",
        "\n",
        "-- Compare the predicted sea level for 2030  and 2040 from both the models.\n",
        "\n",
        "-- Discuss how the different models might lead to different predictions and why this is the case.\n",
        "\n",
        "* Task 5: Interpretation of Results:\n",
        "\n",
        "-- Report a metric that you used to compare the performance of the Linear Regression and SVM. Which model performed the best?\n",
        "\n",
        "-- Explain how the regression models are helping us understand the relationship between the year and the sea level rise.\n",
        "\n"
      ]
    }
  ],
  "metadata": {
    "colab": {
      "provenance": []
    },
    "kernelspec": {
      "display_name": "Python 3",
      "name": "python3"
    },
    "language_info": {
      "name": "python"
    }
  },
  "nbformat": 4,
  "nbformat_minor": 0
}
