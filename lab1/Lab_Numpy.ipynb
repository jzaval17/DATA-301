{
  "cells": [
    {
      "cell_type": "markdown",
      "metadata": {
        "id": "YtBxJKfTeaxf"
      },
      "source": [
        "# Introductory NumPy lab: Please attempt all the questions and demo your answers to your intructor/TA within the due date.\n",
        "\n",
        "Learning Objectives of this Lab:\n",
        "\n",
        "* Create, manipulate, and reshape NumPy arrays.\n",
        "\n",
        "* Perform statistical analysis and aggregation on arrays.\n",
        "\n",
        "* Work with random data and array slicing.\n",
        "\n",
        "* Understand and use array operations such as element-wise operations, conditional replacements, and aggregation.\n",
        "\n",
        "* Gain practical skills with NumPy functions that are critical for data manipulation in Python.\n",
        "\n",
        "These learning outcomes of these exercises are to provide students with a strong foundation in using NumPy for data manipulation, which will be essential for future data science, machine learning, and scientific computing applications."
      ]
    },
    {
      "cell_type": "markdown",
      "metadata": {
        "id": "pzBLOpdAca6R"
      },
      "source": []
    },
    {
      "cell_type": "markdown",
      "metadata": {
        "id": "1HGBbFgmcOXW"
      },
      "source": [
        "# 1. Create a 3x3x3 array with random values"
      ]
    },
    {
      "cell_type": "code",
      "execution_count": 2,
      "metadata": {},
      "outputs": [
        {
          "name": "stdout",
          "output_type": "stream",
          "text": [
            "3x3x3 array:\n",
            " [[[9.06716629e-01 4.25846134e-01 3.62137158e-01]\n",
            "  [7.52641710e-01 3.75831100e-05 9.79063914e-01]\n",
            "  [9.27575117e-01 9.54379568e-01 8.42090259e-01]]\n",
            "\n",
            " [[7.58743296e-01 4.59303643e-01 4.76432083e-01]\n",
            "  [9.51327716e-01 4.25235089e-01 2.65076835e-01]\n",
            "  [8.53800503e-01 7.54331299e-01 9.33775648e-01]]\n",
            "\n",
            " [[7.43358621e-02 3.15670293e-01 5.98898959e-01]\n",
            "  [3.94737838e-01 1.41620052e-01 8.60514869e-02]\n",
            "  [8.00491913e-01 2.96874671e-01 2.03665336e-01]]]\n"
          ]
        }
      ],
      "source": [
        "# Install matplotlib if not already installed\n",
        "# %pip install matplotlib\n",
        "\n",
        "import numpy as np\n",
        "import matplotlib.pyplot as plt\n",
        "array = np.random.rand(3, 3, 3)\n",
        "print(\"3x3x3 array:\\n\", array)"
      ]
    },
    {
      "cell_type": "markdown",
      "metadata": {
        "id": "TtfULt2rcOXY"
      },
      "source": [
        "# 2.Create a 5x5 matrix with values 1,2,3,4 just below the diagonal"
      ]
    },
    {
      "cell_type": "code",
      "execution_count": 3,
      "metadata": {},
      "outputs": [
        {
          "name": "stdout",
          "output_type": "stream",
          "text": [
            "[[0 0 0 0 0]\n",
            " [1 0 0 0 0]\n",
            " [0 2 0 0 0]\n",
            " [0 0 3 0 0]\n",
            " [0 0 0 4 0]]\n"
          ]
        }
      ],
      "source": [
        "matrix2 = np.diag([1, 2, 3, 4], k=-1)\n",
        "print(matrix2)"
      ]
    },
    {
      "cell_type": "markdown",
      "metadata": {
        "id": "7DI8w8sRcOXZ"
      },
      "source": [
        "# 3.Create a 8x8 matrix and fill it with a checkerboard pattern"
      ]
    },
    {
      "cell_type": "code",
      "execution_count": null,
      "metadata": {},
      "outputs": [
        {
          "name": "stdout",
          "output_type": "stream",
          "text": [
            "X O X O X O X O \n",
            "O X O X O X O X \n",
            "X O X O X O X O \n",
            "O X O X O X O X \n",
            "X O X O X O X O \n",
            "O X O X O X O X \n",
            "X O X O X O X O \n",
            "O X O X O X O X \n",
            "Checkerboard Pattern:\n",
            " [[1 0 1 0 1 0 1 0]\n",
            " [0 1 0 1 0 1 0 1]\n",
            " [1 0 1 0 1 0 1 0]\n",
            " [0 1 0 1 0 1 0 1]\n",
            " [1 0 1 0 1 0 1 0]\n",
            " [0 1 0 1 0 1 0 1]\n",
            " [1 0 1 0 1 0 1 0]\n",
            " [0 1 0 1 0 1 0 1]]\n"
          ]
        }
      ],
      "source": [
        "def print_checkerboard(rows, cols):\n",
        "    for i in range(rows):\n",
        "        for j in range(cols):\n",
        "            if (i + j) % 2 == 0:\n",
        "                print(\"X\", end=\" \")\n",
        "            else:\n",
        "                print(\"O\", end=\" \")\n",
        "        print()\n",
        "print_checkerboard(8, 8)\n",
        "\n",
        "checkerboard = np.zeros((8, 8), dtype=int)\n",
        "#this will create a checkerboard pattern, where 1s and 0s alternate by row and column\n",
        "checkerboard[::2, ::2] = 1  # Fill even row, even col\n",
        "checkerboard[1::2, 1::2] = 1  # Fill odd row, odd col\n",
        "\n",
        "print(\"Checkerboard Pattern:\\n\", checkerboard)\n"
      ]
    },
    {
      "cell_type": "markdown",
      "metadata": {
        "id": "EFVRzaxncOXZ"
      },
      "source": [
        "# 4. Normalize a 5x5 random matrix"
      ]
    },
    {
      "cell_type": "code",
      "execution_count": 10,
      "metadata": {},
      "outputs": [
        {
          "name": "stdout",
          "output_type": "stream",
          "text": [
            "Normalized Matrix:\n",
            " [[0.05001589 0.83042531 0.9035978  0.50341678 0.41706843]\n",
            " [1.         0.12262299 0.44408289 0.44370331 0.06982105]\n",
            " [0.98245966 0.10242433 0.95102957 0.         0.4406456 ]\n",
            " [0.781509   0.29876415 0.80539835 0.05912035 0.50408629]\n",
            " [0.70142249 0.37651016 0.10321094 0.4791217  0.25363398]]\n"
          ]
        }
      ],
      "source": [
        "matrix3 = np.random.rand(5, 5)\n",
        "min_val = matrix3.min()\n",
        "max_val = matrix3.max()\n",
        "normalized_matrix = (matrix3 - min_val) / (max_val - min_val)\n",
        "print(\"Normalized Matrix:\\n\", normalized_matrix)"
      ]
    },
    {
      "cell_type": "markdown",
      "metadata": {
        "id": "P2S8OT0OcOXZ"
      },
      "source": [
        "# 5.  How to find common values between two arrays?\n",
        "\n",
        "refer and study the method `intersect1d`"
      ]
    },
    {
      "cell_type": "code",
      "execution_count": 9,
      "metadata": {},
      "outputs": [
        {
          "name": "stdout",
          "output_type": "stream",
          "text": [
            "Common Values:\n",
            " [1 2 3 4 5 6 7 8 9]\n"
          ]
        }
      ],
      "source": [
        "array = np.array([[1, 2, 3], [4, 5, 6], [7, 8, 9]])\n",
        "array2 = np.array([[9, 8, 7], [6, 5, 4], [3, 2, 1]])\n",
        "#find common values\n",
        "\n",
        "common_values = np.intersect1d(array, array2)\n",
        "print(\"Common Values:\\n\", common_values)"
      ]
    },
    {
      "cell_type": "markdown",
      "metadata": {
        "id": "lubKfNgDcOXa"
      },
      "source": [
        "# 6.How to get the dates of yesterday, today and tomorrow?"
      ]
    },
    {
      "cell_type": "code",
      "execution_count": 10,
      "metadata": {},
      "outputs": [
        {
          "name": "stdout",
          "output_type": "stream",
          "text": [
            "Today's Date: 2025-04-02\n",
            "Yesterday's Date: 2025-04-01\n",
            "Tomorrow's Date: 2025-04-03\n"
          ]
        }
      ],
      "source": [
        "from datetime import datetime, timedelta\n",
        "#todays date\n",
        "today = datetime.now()\n",
        "#yesterday\n",
        "yesterday = today - timedelta(days=1)\n",
        "#tomorrow\n",
        "tomorrow = today + timedelta(days=1)\n",
        "\n",
        "#print\n",
        "print(\"Today's Date:\", today.strftime(\"%Y-%m-%d\"))\n",
        "print(\"Yesterday's Date:\", yesterday.strftime(\"%Y-%m-%d\"))\n",
        "print(\"Tomorrow's Date:\", tomorrow.strftime(\"%Y-%m-%d\"))"
      ]
    },
    {
      "cell_type": "markdown",
      "metadata": {
        "id": "jCGKkGP0cOXa"
      },
      "source": [
        "# 7. Consider two random array A and B, check if they are equal"
      ]
    },
    {
      "cell_type": "code",
      "execution_count": 15,
      "metadata": {},
      "outputs": [
        {
          "name": "stdout",
          "output_type": "stream",
          "text": [
            "Arrays A and B are not equal.\n"
          ]
        }
      ],
      "source": [
        "#2 random arrays A and B, check if they are equal\n",
        "A = np.random.rand(3, 3)\n",
        "B = np.random.rand(3, 3)\n",
        "if np.array_equal(A, B):\n",
        "    print(\"Arrays A and B are equal.\")\n",
        "else:\n",
        "    print(\"Arrays A and B are not equal.\")"
      ]
    },
    {
      "cell_type": "markdown",
      "metadata": {
        "id": "gZctvewkcOXa"
      },
      "source": [
        "# 8.Create random vector of size 20 and replace the maximum value by 1 and minimum value by -1"
      ]
    },
    {
      "cell_type": "code",
      "execution_count": 3,
      "metadata": {},
      "outputs": [
        {
          "name": "stdout",
          "output_type": "stream",
          "text": [
            "Modified Vector:\n",
            " [ 0.3241657   1.          0.77878128  0.25433765  0.71422354  0.51841172\n",
            "  0.77908034  0.84628984  0.3376046   0.66535363  0.58575207  0.57189294\n",
            "  0.81274745  0.06846924  0.15302821  0.60964863  0.23259641 -1.\n",
            "  0.21869648  0.09623485]\n"
          ]
        }
      ],
      "source": [
        "#random vector of size 20 and replace the max value by 1 and min value by -1\n",
        "vector = np.random.rand(20)\n",
        "max_index = vector.argmax() \n",
        "min_index = vector.argmin()\n",
        "vector[max_index] = 1\n",
        "vector[min_index] = -1\n",
        "print(\"Modified Vector:\\n\", vector)"
      ]
    },
    {
      "cell_type": "markdown",
      "metadata": {
        "id": "kCf0SJEtcOXa"
      },
      "source": [
        "# 9. How to print all the values of an array?"
      ]
    },
    {
      "cell_type": "code",
      "execution_count": 12,
      "metadata": {},
      "outputs": [
        {
          "name": "stdout",
          "output_type": "stream",
          "text": [
            "All values in the array:\n",
            " [[1 2 3]\n",
            " [4 5 6]\n",
            " [7 8 9]]\n"
          ]
        }
      ],
      "source": [
        "#print all values of an array\n",
        "array = np.array([[1, 2, 3], [4, 5, 6], [7, 8, 9]])\n",
        "print(\"All values in the array:\\n\", array)"
      ]
    },
    {
      "cell_type": "markdown",
      "metadata": {
        "id": "9b4DkBj8cOXb"
      },
      "source": [
        "# 10.Subtract the mean of each row of a matrix"
      ]
    },
    {
      "cell_type": "code",
      "execution_count": 4,
      "metadata": {},
      "outputs": [
        {
          "name": "stdout",
          "output_type": "stream",
          "text": [
            "Matrix after subtracting row means:\n",
            " [[-1.  0.  1.]\n",
            " [-1.  0.  1.]\n",
            " [-1.  0.  1.]]\n"
          ]
        }
      ],
      "source": [
        "#subtract the mean of each row of a matrix\n",
        "matrix = np.array([[1, 2, 3], [4, 5, 6], [7, 8, 9]])\n",
        "row_means = matrix.mean(axis=1, keepdims=True)\n",
        "normalized_matrix = matrix - row_means\n",
        "print(\"Matrix after subtracting row means:\\n\", normalized_matrix)"
      ]
    },
    {
      "cell_type": "markdown",
      "metadata": {
        "id": "y1FoRbhBcOXb"
      },
      "source": [
        "# 11.Consider a given vector, how to add 1 to each element indexed by a second vector (be careful with repeated indices)?"
      ]
    },
    {
      "cell_type": "code",
      "execution_count": 5,
      "metadata": {},
      "outputs": [
        {
          "name": "stdout",
          "output_type": "stream",
          "text": [
            "Vector after adding 1 to indexed elements:\n",
            " [2 3 4 5 5]\n"
          ]
        }
      ],
      "source": [
        "#consider a given vector, how to add 1 to each element indexed by a second voctor. (careful with repeated indices)\n",
        "vector = np.array([1, 2, 3, 4, 5])\n",
        "indices = np.array([0, 1, 2, 2, 3])  # Repeated index for element 2\n",
        "vector[indices] += 1\n",
        "print(\"Vector after adding 1 to indexed elements:\\n\", vector)"
      ]
    },
    {
      "cell_type": "markdown",
      "metadata": {
        "id": "I6CglCpdcOXb"
      },
      "source": [
        "# 12.How to get the diagonal of a dot product?"
      ]
    },
    {
      "cell_type": "code",
      "execution_count": 6,
      "metadata": {},
      "outputs": [
        {
          "name": "stdout",
          "output_type": "stream",
          "text": [
            "Diagonal of the dot product:\n",
            " [19 50]\n"
          ]
        }
      ],
      "source": [
        "#how to get the diagonal of a dot product?\n",
        "matrix1 = np.array([[1, 2], [3, 4]])\n",
        "matrix2 = np.array([[5, 6], [7, 8]])\n",
        "dot_product = np.dot(matrix1, matrix2)\n",
        "diagonal = np.diag(dot_product)\n",
        "print(\"Diagonal of the dot product:\\n\", diagonal)"
      ]
    },
    {
      "cell_type": "markdown",
      "metadata": {
        "id": "_GYXL6WCcOXb"
      },
      "source": [
        "# 13.How to find the most frequent value in an array?"
      ]
    },
    {
      "cell_type": "code",
      "execution_count": null,
      "metadata": {},
      "outputs": [
        {
          "name": "stdout",
          "output_type": "stream",
          "text": [
            "Most frequent value in the array:\n",
            " 4\n"
          ]
        }
      ],
      "source": [
        "#how to find the most frequent value in an array?\n",
        "array = np.array([1, 2, 2, 3, 4, 4, 4, 5])\n",
        "unique, counts = np.unique(array, return_counts=True) # Get unique values and their counts, returning counts is True\n",
        "most_frequent = unique[counts.argmax()]\n",
        "print(\"Most frequent value in the array:\\n\", most_frequent)"
      ]
    },
    {
      "cell_type": "markdown",
      "metadata": {
        "id": "BMQoUO5LcOXb"
      },
      "source": [
        "# 14.How to create a record array from a regular array?"
      ]
    },
    {
      "cell_type": "code",
      "execution_count": 13,
      "metadata": {},
      "outputs": [
        {
          "name": "stdout",
          "output_type": "stream",
          "text": [
            "regular array:\n",
            " [['1' 'Alice' '25']\n",
            " ['2' 'Bob' '30']\n",
            " ['3' 'Charlie' '35']]\n",
            "Record array:\n",
            " [('1', 'Alice', '25') ('2', 'Bob', '30') ('3', 'Charlie', '35')]\n"
          ]
        }
      ],
      "source": [
        "#how to get a record array from a regular array?\n",
        "array = np.array([(1, 'Alice', 25), (2, 'Bob', 30), (3, 'Charlie', 35)])\n",
        "# Create a record array from the regular array by specifying the names of the fields\n",
        "record_array = np.core.records.fromarrays(array.T, names='id,name,age')\n",
        "print(\"regular array:\\n\", array)\n",
        "print(\"Record array:\\n\", record_array)"
      ]
    },
    {
      "cell_type": "markdown",
      "metadata": {
        "id": "hqP_fMyMdeCh"
      },
      "source": [
        "## 15. Create an array with values ranging from 0 to 1 with a step of 0.1."
      ]
    },
    {
      "cell_type": "code",
      "execution_count": null,
      "metadata": {},
      "outputs": [
        {
          "name": "stdout",
          "output_type": "stream",
          "text": [
            "Array with values ranging from 0 to 1 with a step of 0.1:\n",
            " [0.  0.1 0.2 0.3 0.4 0.5 0.6 0.7 0.8 0.9 1. ]\n"
          ]
        }
      ],
      "source": [
        "#create an array with values ranging from 0 to 1 with a step of 0.1\n",
        "#this will create an array with values from 0 to 1 (inclusive) with a step of 0.1\n",
        "array = np.arange(0, 1.1, 0.1)  # Include 1.0 by using 1.1 as the stop value\n",
        "print(\"Array with values ranging from 0 to 1 with a step of 0.1:\\n\", array)"
      ]
    },
    {
      "cell_type": "markdown",
      "metadata": {
        "id": "pV3XwBD0dlg0"
      },
      "source": [
        "# 16. Create a 5x5 matrix and replace all the even numbers with 0."
      ]
    },
    {
      "cell_type": "code",
      "execution_count": 23,
      "metadata": {},
      "outputs": [
        {
          "name": "stdout",
          "output_type": "stream",
          "text": [
            "Original Matrix:\n",
            " [[27 52 89 13  8]\n",
            " [55 64 83 51  1]\n",
            " [61 91 44 84 25]\n",
            " [55 86 80 20 92]\n",
            " [63 39 87 83 94]]\n",
            "Matrix after replacing even numbers with 0:\n",
            " [[27  0 89 13  0]\n",
            " [55  0 83 51  1]\n",
            " [61 91  0  0 25]\n",
            " [55  0  0  0  0]\n",
            " [63 39 87 83  0]]\n"
          ]
        }
      ],
      "source": [
        "#create a 5x5 matrix and replace all the even numbers with 0\n",
        "matrix = np.random.randint(1, 100, size=(5, 5))\n",
        "print(\"Original Matrix:\\n\", matrix)\n",
        "matrix[matrix % 2 == 0] = 0  # Replace even numbers with 0\n",
        "print(\"Matrix after replacing even numbers with 0:\\n\", matrix)"
      ]
    },
    {
      "cell_type": "markdown",
      "metadata": {
        "id": "mMOw2qB9doQ8"
      },
      "source": [
        "# 17. Create an array with values 1 to 9, and then use np.reshape() to reshape it into a 3x3 matrix. Study the `reshape()` method to answer this question\n",
        "\n",
        "# 18. Create a 1D array of random values and find the standard deviation and variance of the array. You can use Python's inbuilt methods `np.std()` and `np.var()` or write your own code for these methods.\n",
        "\n",
        "# 19. Given an array of numbers, find the indices where the value is greater than a given threshold. Refer to how the method `np.where()` works to answer this question.\n",
        "\n",
        "# 20. Create two random arrays of size 3x3 and compute their element-wise addition and subtraction."
      ]
    },
    {
      "cell_type": "code",
      "execution_count": 25,
      "metadata": {},
      "outputs": [
        {
          "name": "stdout",
          "output_type": "stream",
          "text": [
            "Reshaped Matrix:\n",
            " [[1 2 3]\n",
            " [4 5 6]\n",
            " [7 8 9]]\n",
            "Array:\n",
            " [0.00587257 0.31821338 0.45249767 0.88502084 0.56945938 0.08234925\n",
            " 0.12805882 0.47925959 0.02596165 0.85735629]\n",
            "Standard Deviation:\n",
            " 0.309050008394169\n",
            "Variance:\n",
            " 0.09551190768843594\n",
            "Indices where values are greater than threshold:\n",
            " [3 4 5]\n",
            "Array 1:\n",
            " [[0.68503821 0.05218844 0.78868026]\n",
            " [0.43628869 0.52550239 0.67172215]\n",
            " [0.97915743 0.33162047 0.94615854]]\n",
            "Array 2:\n",
            " [[0.86500602 0.91943511 0.55436708]\n",
            " [0.40432212 0.63797094 0.00426941]\n",
            " [0.21892864 0.41886262 0.34761908]]\n",
            "Element-wise Addition Result:\n",
            " [[1.55004424 0.97162356 1.34304734]\n",
            " [0.84061081 1.16347333 0.67599156]\n",
            " [1.19808607 0.75048309 1.29377762]]\n",
            "Element-wise Subtraction Result:\n",
            " [[-0.17996781 -0.86724667  0.23431319]\n",
            " [ 0.03196657 -0.11246854  0.66745274]\n",
            " [ 0.76022879 -0.08724215  0.59853945]]\n"
          ]
        }
      ],
      "source": [
        "#17. create an array with values 1 to 9, and then use np.reshape to reshape it into a 3x3 matrix\n",
        "array = np.arange(1, 10)\n",
        "reshaped_matrix = array.reshape(3, 3)  # Reshape into a 3x3 matrix\n",
        "print(\"Reshaped Matrix:\\n\", reshaped_matrix)\n",
        "\n",
        "#18. create a 1D array of random values and find the standard deviation and variance of the array.you can use np.std and np.var functions\n",
        "array = np.random.rand(10)  # Create a 1D array of random values\n",
        "std_dev = np.std(array)  # Calculate standard deviation\n",
        "variance = np.var(array)  # Calculate variance\n",
        "print(\"Array:\\n\", array)\n",
        "print(\"Standard Deviation:\\n\", std_dev)\n",
        "print(\"Variance:\\n\", variance)\n",
        "\n",
        "#19. Given an array of numbers, find the indices where the value is greater than a given threshold.\n",
        "array = np.array([1, 2, 3, 4, 5, 6])\n",
        "threshold = 3\n",
        "indices = np.where(array > threshold)[0]  # Get indices where values are greater than threshold\n",
        "print(\"Indices where values are greater than threshold:\\n\", indices)\n",
        "\n",
        "#20. Create two random arrays of size 3x3 and compute their element-wise addition and subtraction.\n",
        "array1 = np.random.rand(3, 3)\n",
        "array2 = np.random.rand(3, 3)\n",
        "addition_result = array1 + array2  # Element-wise addition\n",
        "subtraction_result = array1 - array2  # Element-wise subtraction\n",
        "print(\"Array 1:\\n\", array1)\n",
        "print(\"Array 2:\\n\", array2)\n",
        "print(\"Element-wise Addition Result:\\n\", addition_result)\n",
        "print(\"Element-wise Subtraction Result:\\n\", subtraction_result)"
      ]
    }
  ],
  "metadata": {
    "colab": {
      "provenance": []
    },
    "kernelspec": {
      "display_name": "Python 3",
      "language": "python",
      "name": "python3"
    },
    "language_info": {
      "codemirror_mode": {
        "name": "ipython",
        "version": 3
      },
      "file_extension": ".py",
      "mimetype": "text/x-python",
      "name": "python",
      "nbconvert_exporter": "python",
      "pygments_lexer": "ipython3",
      "version": "3.12.5"
    }
  },
  "nbformat": 4,
  "nbformat_minor": 0
}
