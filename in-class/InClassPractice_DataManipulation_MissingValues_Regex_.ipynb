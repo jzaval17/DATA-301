{
  "cells": [
    {
      "cell_type": "code",
      "execution_count": null,
      "metadata": {
        "id": "zfkiAhA0cf8N"
      },
      "outputs": [],
      "source": []
    },
    {
      "cell_type": "markdown",
      "metadata": {
        "id": "NTjdI73ucmxl"
      },
      "source": [
        "Practice Problem:\n",
        "\n",
        "**Learning Goals:**\n",
        "\n",
        "- Correct usage of `fillna()` for imputing missing values.\n",
        "- Proper usage of `dropna()` to drop rows with missing values.\n",
        "- Effective use of regex with `str.extract()` to extract the domain from email addresses.\n",
        "- Accurate use of `str.replace()` to clean invalid emails.\n",
        "\n",
        "\n",
        "In this practice example, you will work with a toy dataset that contains missing values. The toy dataset simulates a small customer database with some missing data in columns for customer names, age, and email.\n",
        "\n",
        "You will use `pandas` to clean the data by:\n",
        "1. **Imputing missing values** using the `fillna()` function.\n",
        "2. **Dropping rows with missing values** using the `dropna()` function.\n",
        "3. **Using regex** to clean up string data, such as extracting specific parts of a string or replacing unwanted characters.\n",
        "\n",
        "You will need to use the following pandas functions:\n",
        "- `fillna()`\n",
        "- `dropna()`\n",
        "- `str.contains()` with regex\n",
        "- `str.replace()` with regex\n",
        "\n",
        "\n",
        "#### **Task 1: Create a toy dataset**\n",
        "\n",
        "```\n",
        "data = {\n",
        "    'CustomerID': [1, 2, 3, 4, 5],\n",
        "    'CustomerName': ['Amy', 'Tony', np.nan, 'Arian', 'Eva'],\n",
        "    'Age': [25, np.nan, 22, 34, np.nan],\n",
        "    'Email': ['amy@example.com', 'tony@example', 'noami@domain.com', np.nan, 'eva123@domain.org']\n",
        "}\n",
        "\n",
        "```\n",
        "#### **Task 2: Impute Missing Values in Age**:\n",
        "\n",
        "Use the mean for imputing missing values when:\n",
        "\n",
        "-- The data is approximately normally distributed (symmetric).\n",
        "\n",
        "-- The data is missing completely at random (MCAR).\n",
        "\n",
        "-- You want to preserve the overall mean of the dataset.\n",
        "\n",
        "Do not use the mean for imputation when:\n",
        "\n",
        "-- The data is skewed or has outliers (consider using the median).\n",
        "\n",
        "-- The data is missing not at random (MNAR).\n",
        "\n",
        "-- You need to preserve the variance or heterogeneity of the data (consider more complex methods like KNN or model-based imputation).\n",
        "\n",
        "The `Age` column contains missing values (NaN). For this task, you will use the `fillna()` method to impute the missing values in the `Age` column with the **mean** of the existing `Age` values.\n",
        "\n",
        "\n",
        "\n",
        "\n",
        "#### **Task 3: Drop Rows with Missing `CustomerName` or `Email` is missing**:\n",
        "\n",
        "In the `CustomerName` column, there is one missing value (NaN). For this task, you will: Use the `dropna()` function to remove rows where the `CustomerName` is missing.\n",
        "\n",
        "\n",
        "#### **Task 4: Replace any occurrences of \"@example\" with \"@calpoly.edu\"**:\n",
        "\n",
        "you can modify the existing code that uses `str.replace()` and use the regular expression `r'@example\\b` where `@example` matches the string \"@example\" where\n",
        "\n",
        "`\\b`: This is a word boundary anchor. It ensures that the pattern only matches \"@example\" when it's a whole word and not part of a larger word (like \"@example.com\"). This prevents accidental replacements within longer domain names.\n",
        "\n",
        "\n",
        "\n",
        "#### **Task 5: Use Regex to Extract Domain from Email**:\n",
        "\n",
        "For the `Email` column, you will extract the domain name from each email address using a regular expression. You will:\n",
        "1. Create a new column called `Domain` that contains the domain part of the email (i.e., everything after the `@` symbol).\n",
        "2. Use the `str.extract()` method with a regular expression to capture the domain.\n",
        "\n",
        "\n",
        "\n",
        "\n",
        "\n",
        "\n",
        "\n",
        "### **Submission Instructions**:\n",
        "\n",
        "Show all the completed task to your instructor.\n",
        "\n",
        "---\n",
        "\n"
      ]
    },
    {
      "cell_type": "code",
      "execution_count": 10,
      "metadata": {},
      "outputs": [
        {
          "name": "stdout",
          "output_type": "stream",
          "text": [
            "DataFrame before filling missing values:\n",
            "   CustomerID CustomerName   Age              Email\n",
            "0           1          Amy  25.0    amy@example.com\n",
            "1           2         Tony   NaN       tony@example\n",
            "2           3          NaN  22.0   noami@domain.com\n",
            "3           4        Arian  34.0                NaN\n",
            "4           5          Eva   NaN  eva123@domain.org\n",
            "DataFrame after filling missing values:\n",
            "   CustomerID CustomerName   Age              Email\n",
            "0           1          Amy  25.0    amy@example.com\n",
            "1           2         Tony  27.0       tony@example\n",
            "2           3          NaN  22.0   noami@domain.com\n",
            "3           4        Arian  34.0                NaN\n",
            "4           5          Eva  27.0  eva123@domain.org\n",
            "DataFrame after dropping rows with missing customer names or emails:\n",
            "   CustomerID CustomerName   Age              Email\n",
            "0           1          Amy  25.0    amy@example.com\n",
            "1           2         Tony  27.0       tony@example\n",
            "4           5          Eva  27.0  eva123@domain.org\n",
            "DataFrame after replacing occurrences of 'example' in the email column:\n",
            "   CustomerID CustomerName   Age              Email\n",
            "0           1          Amy  25.0    amy@calpoly.edu\n",
            "1           2         Tony  27.0   tony@calpoly.edu\n",
            "4           5          Eva  27.0  eva123@domain.org\n"
          ]
        },
        {
          "name": "stderr",
          "output_type": "stream",
          "text": [
            "C:\\Users\\Break\\AppData\\Local\\Temp\\ipykernel_18668\\2864579303.py:18: FutureWarning: A value is trying to be set on a copy of a DataFrame or Series through chained assignment using an inplace method.\n",
            "The behavior will change in pandas 3.0. This inplace method will never work because the intermediate object on which we are setting values always behaves as a copy.\n",
            "\n",
            "For example, when doing 'df[col].method(value, inplace=True)', try using 'df.method({col: value}, inplace=True)' or df[col] = df[col].method(value) instead, to perform the operation inplace on the original object.\n",
            "\n",
            "\n",
            "  df['Age'].fillna(df['Age'].mean(), inplace=True)\n"
          ]
        }
      ],
      "source": [
        "import pandas as pd\n",
        "import numpy as np\n",
        "\n",
        "#Task 1\n",
        "data = {\n",
        "    'CustomerID': [1, 2, 3, 4, 5],\n",
        "    'CustomerName': ['Amy', 'Tony', np.nan, 'Arian', 'Eva'],\n",
        "    'Age': [25, np.nan, 22, 34, np.nan],\n",
        "    'Email': ['amy@example.com', 'tony@example', 'noami@domain.com', np.nan, 'eva123@domain.org']\n",
        "}\n",
        "\n",
        "#Task 2\n",
        "\n",
        "#input mising age data using the mean\n",
        "df = pd.DataFrame(data) # Create DataFrame because the data is in dictionary format\n",
        "print(\"DataFrame before filling missing values:\", df, sep=\"\\n\")\n",
        "\n",
        "df['Age'].fillna(df['Age'].mean(), inplace=True)\n",
        "print(\"DataFrame after filling missing values:\", df, sep=\"\\n\")\n",
        "\n",
        "#Task 3\n",
        "#drop rows with missing customer names or emails\n",
        "df.dropna(subset=['CustomerName', 'Email'], inplace=True)\n",
        "print(\"DataFrame after dropping rows with missing customer names or emails:\", df, sep=\"\\n\")\n",
        "\n",
        "#task 4\n",
        "#replace occurrences of 'example' in the email column with '@calpoly.edu'\n",
        "df['Email'] = df['Email'].str.replace('@example.com', '@calpoly.edu', regex=False)\n",
        "df['Email'] = df['Email'].str.replace('@example', '@calpoly.edu', regex=False)\n",
        "print(\"DataFrame after replacing occurrences of 'example' in the email column:\", df, sep=\"\\n\")\n"
      ]
    },
    {
      "cell_type": "code",
      "execution_count": null,
      "metadata": {},
      "outputs": [
        {
          "name": "stdout",
          "output_type": "stream",
          "text": [
            "DataFrame after extracting domain from email:\n",
            "   CustomerID CustomerName   Age              Email       Domain\n",
            "0           1          Amy  25.0    amy@calpoly.edu  calpoly.edu\n",
            "1           2         Tony  27.0   tony@calpoly.edu  calpoly.edu\n",
            "4           5          Eva  27.0  eva123@domain.org   domain.org\n"
          ]
        }
      ],
      "source": [
        "#Task 5: Use Regex to Extract Domain from Email**:\n",
        "# For the `Email` column, you will extract the domain name from each email address using a regular expression. You will:\n",
        "# 1. Create a new column called `Domain` that contains the domain part of the email (i.e., everything after the `@` symbol).\n",
        "# 2. Use the `str.extract()` method with a regular expression to capture the domain.\n",
        "df['Domain'] = df['Email'].str.extract(r'@(.+)')\n",
        "print(\"DataFrame after extracting domain from email:\", df, sep=\"\\n\")\n"
      ]
    }
  ],
  "metadata": {
    "colab": {
      "provenance": []
    },
    "kernelspec": {
      "display_name": "Python 3",
      "name": "python3"
    },
    "language_info": {
      "codemirror_mode": {
        "name": "ipython",
        "version": 3
      },
      "file_extension": ".py",
      "mimetype": "text/x-python",
      "name": "python",
      "nbconvert_exporter": "python",
      "pygments_lexer": "ipython3",
      "version": "3.12.5"
    }
  },
  "nbformat": 4,
  "nbformat_minor": 0
}
