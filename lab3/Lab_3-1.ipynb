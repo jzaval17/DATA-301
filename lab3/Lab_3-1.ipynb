{
  "cells": [
    {
      "cell_type": "markdown",
      "metadata": {
        "id": "RCZgZLiDIlKn"
      },
      "source": [
        "#Assignment: Exploratory Data Analysis with the Titanic Dataset\n",
        "\n",
        "\n",
        "Finish the following tasks in the class using the dataset:\n",
        "`https://raw.githubusercontent.com/sumonacalpoly/Datasets/main/Titanic_train.csv`\n",
        "\n",
        "The dataset contains information about 2206 passengers and crew members aboard the RMS Titanic when it sank on April 15, 1912. The Titanic dataset is typically used as a classification dataset. The key target variable is usually \"survived,\" which is a binary outcome indicating whether a passenger survived (1) or did not survive (0) the disaster. Consequently, many analyses and predictive models built on this dataset focus on classifying passengers into these two groups based on various features like age, gender, ticket class, and more.\n",
        "\n",
        "In this assignment, you will explore the distributions of key variables, compute medians, and create visualizations to better understand the data.\n",
        "\n",
        "**Learning Outcomes & Objectives:**\n",
        "\n",
        "- **Outcomes:**  \n",
        "  - Gain proficiency in exploratory data analysis (EDA) techniques using Python.\n",
        "  - Learn how to compute and interpret descriptive statistics (e.g., median) and visualize data distributions (histograms, KDE, box plots).\n",
        "  - Understand how to analyze relationships between variables—especially using appropriate correlation measures for classification (like point biserial correlation). Kindly read material on correlation and its different types based on the type of variable.\n",
        "  - Develop insights into socio-economic differences and survival patterns within the Titanic dataset.\n",
        "\n",
        "- **Objectives:**  \n",
        "  - Explore the Titanic dataset to uncover meaningful patterns in survival outcomes.\n",
        "  - Apply visualization techniques to compare distributions (e.g., fare differences across classes) and analyze categorical vs. continuous relationships.\n",
        "  - Use EDA as a foundation to inform feature engineering and subsequent predictive modeling.\n",
        "\n",
        "This assignment will provide a clear roadmap for understanding the data and the analytical techniques essential for effective EDA.\n",
        "\n",
        "**Answer the questions that follow and completet the code**"
      ]
    },
    {
      "cell_type": "markdown",
      "metadata": {
        "id": "UnsEZM04RqSz"
      },
      "source": [
        "**1 Read in the Titanic data set**"
      ]
    },
    {
      "cell_type": "code",
      "execution_count": 16,
      "metadata": {},
      "outputs": [
        {
          "data": {
            "text/html": [
              "<div>\n",
              "<style scoped>\n",
              "    .dataframe tbody tr th:only-of-type {\n",
              "        vertical-align: middle;\n",
              "    }\n",
              "\n",
              "    .dataframe tbody tr th {\n",
              "        vertical-align: top;\n",
              "    }\n",
              "\n",
              "    .dataframe thead th {\n",
              "        text-align: right;\n",
              "    }\n",
              "</style>\n",
              "<table border=\"1\" class=\"dataframe\">\n",
              "  <thead>\n",
              "    <tr style=\"text-align: right;\">\n",
              "      <th></th>\n",
              "      <th>PassengerId</th>\n",
              "      <th>Survived</th>\n",
              "      <th>Pclass</th>\n",
              "      <th>Name</th>\n",
              "      <th>Sex</th>\n",
              "      <th>Age</th>\n",
              "      <th>SibSp</th>\n",
              "      <th>Parch</th>\n",
              "      <th>Ticket</th>\n",
              "      <th>Fare</th>\n",
              "      <th>Cabin</th>\n",
              "      <th>Embarked</th>\n",
              "    </tr>\n",
              "  </thead>\n",
              "  <tbody>\n",
              "    <tr>\n",
              "      <th>0</th>\n",
              "      <td>1</td>\n",
              "      <td>0</td>\n",
              "      <td>3</td>\n",
              "      <td>Braund, Mr. Owen Harris</td>\n",
              "      <td>male</td>\n",
              "      <td>22.0</td>\n",
              "      <td>1</td>\n",
              "      <td>0</td>\n",
              "      <td>A/5 21171</td>\n",
              "      <td>7.2500</td>\n",
              "      <td>NaN</td>\n",
              "      <td>S</td>\n",
              "    </tr>\n",
              "    <tr>\n",
              "      <th>1</th>\n",
              "      <td>2</td>\n",
              "      <td>1</td>\n",
              "      <td>1</td>\n",
              "      <td>Cumings, Mrs. John Bradley (Florence Briggs Th...</td>\n",
              "      <td>female</td>\n",
              "      <td>38.0</td>\n",
              "      <td>1</td>\n",
              "      <td>0</td>\n",
              "      <td>PC 17599</td>\n",
              "      <td>71.2833</td>\n",
              "      <td>C85</td>\n",
              "      <td>C</td>\n",
              "    </tr>\n",
              "    <tr>\n",
              "      <th>2</th>\n",
              "      <td>3</td>\n",
              "      <td>1</td>\n",
              "      <td>3</td>\n",
              "      <td>Heikkinen, Miss. Laina</td>\n",
              "      <td>female</td>\n",
              "      <td>26.0</td>\n",
              "      <td>0</td>\n",
              "      <td>0</td>\n",
              "      <td>STON/O2. 3101282</td>\n",
              "      <td>7.9250</td>\n",
              "      <td>NaN</td>\n",
              "      <td>S</td>\n",
              "    </tr>\n",
              "    <tr>\n",
              "      <th>3</th>\n",
              "      <td>4</td>\n",
              "      <td>1</td>\n",
              "      <td>1</td>\n",
              "      <td>Futrelle, Mrs. Jacques Heath (Lily May Peel)</td>\n",
              "      <td>female</td>\n",
              "      <td>35.0</td>\n",
              "      <td>1</td>\n",
              "      <td>0</td>\n",
              "      <td>113803</td>\n",
              "      <td>53.1000</td>\n",
              "      <td>C123</td>\n",
              "      <td>S</td>\n",
              "    </tr>\n",
              "    <tr>\n",
              "      <th>4</th>\n",
              "      <td>5</td>\n",
              "      <td>0</td>\n",
              "      <td>3</td>\n",
              "      <td>Allen, Mr. William Henry</td>\n",
              "      <td>male</td>\n",
              "      <td>35.0</td>\n",
              "      <td>0</td>\n",
              "      <td>0</td>\n",
              "      <td>373450</td>\n",
              "      <td>8.0500</td>\n",
              "      <td>NaN</td>\n",
              "      <td>S</td>\n",
              "    </tr>\n",
              "  </tbody>\n",
              "</table>\n",
              "</div>"
            ],
            "text/plain": [
              "   PassengerId  Survived  Pclass  \\\n",
              "0            1         0       3   \n",
              "1            2         1       1   \n",
              "2            3         1       3   \n",
              "3            4         1       1   \n",
              "4            5         0       3   \n",
              "\n",
              "                                                Name     Sex   Age  SibSp  \\\n",
              "0                            Braund, Mr. Owen Harris    male  22.0      1   \n",
              "1  Cumings, Mrs. John Bradley (Florence Briggs Th...  female  38.0      1   \n",
              "2                             Heikkinen, Miss. Laina  female  26.0      0   \n",
              "3       Futrelle, Mrs. Jacques Heath (Lily May Peel)  female  35.0      1   \n",
              "4                           Allen, Mr. William Henry    male  35.0      0   \n",
              "\n",
              "   Parch            Ticket     Fare Cabin Embarked  \n",
              "0      0         A/5 21171   7.2500   NaN        S  \n",
              "1      0          PC 17599  71.2833   C85        C  \n",
              "2      0  STON/O2. 3101282   7.9250   NaN        S  \n",
              "3      0            113803  53.1000  C123        S  \n",
              "4      0            373450   8.0500   NaN        S  "
            ]
          },
          "execution_count": 16,
          "metadata": {},
          "output_type": "execute_result"
        }
      ],
      "source": [
        "#read in the titanic dataset`\n",
        "import pandas as pd\n",
        "import numpy as np\n",
        "import matplotlib.pyplot as plt\n",
        "\n",
        "import seaborn as sns\n",
        "# Load the Titanic dataset\n",
        "titanic_df = pd.read_csv('https://raw.githubusercontent.com/sumonacalpoly/Datasets/main/Titanic_train.csv')\n",
        "\n",
        "# Display the first few rows of the dataset\n",
        "titanic_df.head()"
      ]
    },
    {
      "cell_type": "markdown",
      "metadata": {
        "id": "44A_2em0SLvV"
      },
      "source": [
        "**2 What is the observational unit?**\n"
      ]
    },
    {
      "cell_type": "code",
      "execution_count": null,
      "metadata": {},
      "outputs": [],
      "source": [
        "#what is the observational unit\n",
        "# The observational unit is each passenger on the Titanic. Each row in the dataset represents a single passenger, \n",
        "# and the columns contain various attributes related to that passenger, such as their name, age,"
      ]
    },
    {
      "cell_type": "markdown",
      "metadata": {
        "id": "IZZ9uNkHSTZy"
      },
      "source": [
        "**3. What column seems to be an appropriate index for this data set? Do you see any problems with using this column as the index?**\n",
        "\n",
        "\n"
      ]
    },
    {
      "cell_type": "code",
      "execution_count": 17,
      "metadata": {
        "id": "Gqa7Sw5ZSYY7"
      },
      "outputs": [
        {
          "data": {
            "text/plain": [
              "True"
            ]
          },
          "execution_count": 17,
          "metadata": {},
          "output_type": "execute_result"
        }
      ],
      "source": [
        "# [ ] # YOUR CODE HERE (if you want to further investigate the uniqueness of the 'name' column)\n",
        "# For instance, you might try:\n",
        "#what column seems to be an appropriate index for this data set? do you see any problems with using this column as the index?\n",
        "\n",
        "titanic_df['Name'].is_unique # check if the Name column is unique\n",
        "#turns true\n",
        "#the name column is unique which is good for an index because it means that each row\n",
        "#is unique and can be identified by the name of the passenger.\n",
        "## However, using the name as an index may not be ideal for several reasons:\n",
        "#1. Names can be long and complex, making them less efficient for indexing.\n",
        "#2. there can be duplicate names in the dataset, especially if there are multiple passengers with the same name.\n"
      ]
    },
    {
      "cell_type": "markdown",
      "metadata": {
        "id": "yRjdloSYSuJA"
      },
      "source": [
        "let’s set \"Name\" as the index and then extract a DataFrame with information about the members of the Widener family. The dataset has one of the Widener family: Only one person named\n",
        "\n",
        "\"Widener, Mr. Harry Elkins\"\n",
        "Use the following code to Set 'Name' as the index of the DataFrame\n",
        "`titanic_df.set_index(\"Name\", inplace=True)`"
      ]
    },
    {
      "cell_type": "markdown",
      "metadata": {
        "id": "37FtPEvNTEzP"
      },
      "source": [
        "**4. Extract rows corresponding to the Widener family**"
      ]
    },
    {
      "cell_type": "code",
      "execution_count": 18,
      "metadata": {
        "id": "XdwCMNreTG10"
      },
      "outputs": [
        {
          "name": "stdout",
          "output_type": "stream",
          "text": [
            "                           PassengerId  Survived  Pclass   Sex   Age  SibSp  \\\n",
            "Name                                                                          \n",
            "Widener, Mr. Harry Elkins          378         0       1  male  27.0      0   \n",
            "\n",
            "                           Parch  Ticket   Fare Cabin Embarked  \n",
            "Name                                                            \n",
            "Widener, Mr. Harry Elkins      2  113503  211.5   C82        C  \n",
            "1\n"
          ]
        }
      ],
      "source": [
        "#extracting rows corresponding to the Widener Family\n",
        "titanic_df.set_index(\"Name\", inplace=True)\n",
        "widener_df = titanic_df[titanic_df.index.str.contains(\"Widener\")]\n",
        "print(widener_df)\n",
        "print(widener_df.shape[0])  # Should print 1\n",
        "#this should print 1 because there is only one row in the dataset that corresponds to the Widener family.\n"
      ]
    },
    {
      "cell_type": "markdown",
      "metadata": {
        "id": "3VmNbBwoV0KR"
      },
      "source": [
        "**5. Compute the Median Age of passengers.**\n",
        "\n",
        "Hint: Use the .median() method in pandas."
      ]
    },
    {
      "cell_type": "code",
      "execution_count": 19,
      "metadata": {
        "id": "KI-7dmOdb-H9"
      },
      "outputs": [
        {
          "data": {
            "text/plain": [
              "28.0"
            ]
          },
          "execution_count": 19,
          "metadata": {},
          "output_type": "execute_result"
        }
      ],
      "source": [
        "#compute the median age of the passengers in the dataset\n",
        "titanic_df['Age'].median() # 28.0\n"
      ]
    },
    {
      "cell_type": "markdown",
      "metadata": {
        "id": "cAvKx4XJcDx5"
      },
      "source": [
        "**6. Visualize the Age Distribution**:\n",
        "Create a histogram of the age variable to visualize its distribution."
      ]
    },
    {
      "cell_type": "code",
      "execution_count": null,
      "metadata": {
        "id": "gWU6KqwUewpB"
      },
      "outputs": [
        {
          "data": {
            "text/plain": [
              "Text(0.5, 1.0, 'Age Distribution of Titanic Passengers')"
            ]
          },
          "execution_count": 21,
          "metadata": {},
          "output_type": "execute_result"
        },
        {
          "data": {
            "image/png": "[encoded data removed]",
            "text/plain": [
              "<Figure size 1000x600 with 1 Axes>"
            ]
          },
          "metadata": {},
          "output_type": "display_data"
        }
      ],
      "source": [
        "#visualize the distribution of ages in the dataset, create a histogram of the age variable to visualize its distribution\n",
        "plt.figure(figsize=(10, 6))\n",
        "plt.hist(titanic_df['Age'].dropna(), bins=30, edgecolor='black')\n",
        "plt.xlabel('Age')\n",
        "plt.ylabel('Frequency')\n",
        "plt.title('Age Distribution of Titanic Passengers')\n",
        "\n",
        "#the histogram shows that most passengers are between 20 and 30\n",
        "#it also hows that there are very few older passengers"
      ]
    },
    {
      "cell_type": "markdown",
      "metadata": {
        "id": "z-7pC-Jve2F0"
      },
      "source": [
        "\n",
        "**7. Calculate both the mean and the median of the fare column.**\n",
        "\n"
      ]
    },
    {
      "cell_type": "code",
      "execution_count": 22,
      "metadata": {
        "id": "nqLkod7Ue6Cc"
      },
      "outputs": [
        {
          "data": {
            "text/plain": [
              "(32.204207968574636, 14.4542)"
            ]
          },
          "execution_count": 22,
          "metadata": {},
          "output_type": "execute_result"
        }
      ],
      "source": [
        "# YOUR CODE HERE: Calculate and print mean and median fare\n",
        "titanic_df['Fare'].mean(), titanic_df['Fare'].median()\n",
        "\n",
        "\n"
      ]
    },
    {
      "cell_type": "markdown",
      "metadata": {
        "id": "ru5aiWuxheeX"
      },
      "source": [
        "**8. What does the difference between the mean and the median suggest about the fare distribution?**"
      ]
    },
    {
      "cell_type": "markdown",
      "metadata": {
        "id": "RUB5UGt9fAn-"
      },
      "source": [
        "**9. Create a box plot to visualize the distribution of fares across different passenger classes (Pclass).**\n",
        "\n",
        "**10. What differences do you notice in the fare distributions among the classes?**"
      ]
    },
    {
      "cell_type": "markdown",
      "metadata": {
        "id": "K7GSeF0ffL87"
      },
      "source": [
        "**11. Consider how the median fare and the spread of fares differ between classes. What might this indicate about the socio-economic differences among passengers?**\n",
        "\n"
      ]
    },
    {
      "cell_type": "markdown",
      "metadata": {
        "id": "Kva9GOONfdpk"
      },
      "source": [
        "**12. Survival Rate Analysis by Passenger Class:**\n",
        "Create a bar plot that shows the survival rate (i.e., proportion of survivors) for each passenger class. Use the `Pclass` and `Survived` columns to calculate the survival rate."
      ]
    },
    {
      "cell_type": "markdown",
      "metadata": {
        "id": "-okC_HeUfjHY"
      },
      "source": []
    },
    {
      "cell_type": "code",
      "execution_count": null,
      "metadata": {
        "id": "k32R8qnpfwB7"
      },
      "outputs": [],
      "source": [
        "# YOUR CODE HERE: Calculate survival rate per class and create a bar plot\n"
      ]
    },
    {
      "cell_type": "markdown",
      "metadata": {
        "id": "knxAXl9of4Rf"
      },
      "source": [
        "\n",
        "**13. What insights can you derive regarding the relationship between passenger class and survival rate?**\n",
        "\n"
      ]
    },
    {
      "cell_type": "markdown",
      "metadata": {
        "id": "ceHyVARZgCu6"
      },
      "source": [
        "**14. Correlation Analysis Using Point Biserial Correlation**:\n",
        "For a continuous variable like fare or age and the binary target survived, compute the point biserial correlation. Use `scipy.stats.pointbiserialr` for this task."
      ]
    },
    {
      "cell_type": "code",
      "execution_count": null,
      "metadata": {
        "id": "MRd_2eMTgLil"
      },
      "outputs": [],
      "source": [
        "from scipy.stats import pointbiserialr\n",
        "\n",
        "# YOUR CODE HERE: Compute point biserial correlation between age and survived\n",
        "\n",
        "\n",
        "# YOUR CODE HERE: Compute point biserial correlation between fare and survived\n",
        "\n"
      ]
    },
    {
      "cell_type": "markdown",
      "metadata": {
        "id": "2hsiQViFgRbB"
      },
      "source": [
        "**15. How strong are the associations between age/fare and survival? What might these correlations indicate about survival likelihood?**"
      ]
    },
    {
      "cell_type": "code",
      "execution_count": null,
      "metadata": {
        "id": "JVU0GuVbgMM8"
      },
      "outputs": [],
      "source": []
    },
    {
      "cell_type": "markdown",
      "metadata": {
        "id": "ylClocImgL83"
      },
      "source": []
    }
  ],
  "metadata": {
    "colab": {
      "provenance": []
    },
    "kernelspec": {
      "display_name": "Python 3",
      "name": "python3"
    },
    "language_info": {
      "codemirror_mode": {
        "name": "ipython",
        "version": 3
      },
      "file_extension": ".py",
      "mimetype": "text/x-python",
      "name": "python",
      "nbconvert_exporter": "python",
      "pygments_lexer": "ipython3",
      "version": "3.12.5"
    }
  },
  "nbformat": 4,
  "nbformat_minor": 0
}
