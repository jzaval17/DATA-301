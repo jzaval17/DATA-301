{
  "nbformat": 4,
  "nbformat_minor": 0,
  "metadata": {
    "colab": {
      "provenance": []
    },
    "kernelspec": {
      "name": "python3",
      "display_name": "Python 3"
    },
    "language_info": {
      "name": "python"
    }
  },
  "cells": [
    {
      "cell_type": "markdown",
      "source": [
        "#Assignment: Exploratory Data Analysis with the Titanic Dataset\n",
        "\n",
        "\n",
        "Finish the following tasks in the class using the dataset:\n",
        "`https://raw.githubusercontent.com/sumonacalpoly/Datasets/main/Titanic_train.csv`\n",
        "\n",
        "The dataset contains information about 2206 passengers and crew members aboard the RMS Titanic when it sank on April 15, 1912. The Titanic dataset is typically used as a classification dataset. The key target variable is usually \"survived,\" which is a binary outcome indicating whether a passenger survived (1) or did not survive (0) the disaster. Consequently, many analyses and predictive models built on this dataset focus on classifying passengers into these two groups based on various features like age, gender, ticket class, and more.\n",
        "\n",
        "In this assignment, you will explore the distributions of key variables, compute medians, and create visualizations to better understand the data.\n",
        "\n",
        "**Learning Outcomes & Objectives:**\n",
        "\n",
        "- **Outcomes:**  \n",
        "  - Gain proficiency in exploratory data analysis (EDA) techniques using Python.\n",
        "  - Learn how to compute and interpret descriptive statistics (e.g., median) and visualize data distributions (histograms, KDE, box plots).\n",
        "  - Understand how to analyze relationships between variables—especially using appropriate correlation measures for classification (like point biserial correlation). Kindly read material on correlation and its different types based on the type of variable.\n",
        "  - Develop insights into socio-economic differences and survival patterns within the Titanic dataset.\n",
        "\n",
        "- **Objectives:**  \n",
        "  - Explore the Titanic dataset to uncover meaningful patterns in survival outcomes.\n",
        "  - Apply visualization techniques to compare distributions (e.g., fare differences across classes) and analyze categorical vs. continuous relationships.\n",
        "  - Use EDA as a foundation to inform feature engineering and subsequent predictive modeling.\n",
        "\n",
        "This assignment will provide a clear roadmap for understanding the data and the analytical techniques essential for effective EDA.\n",
        "\n",
        "**Answer the questions that follow and completet the code**"
      ],
      "metadata": {
        "id": "RCZgZLiDIlKn"
      }
    },
    {
      "cell_type": "markdown",
      "source": [
        "**1 Read in the Titanic data set**"
      ],
      "metadata": {
        "id": "UnsEZM04RqSz"
      }
    },
    {
      "cell_type": "code",
      "execution_count": null,
      "metadata": {
        "id": "QbCbGDb2IMZ5"
      },
      "outputs": [],
      "source": [
        "\n"
      ]
    },
    {
      "cell_type": "markdown",
      "source": [
        "**2 What is the observational unit?**\n"
      ],
      "metadata": {
        "id": "44A_2em0SLvV"
      }
    },
    {
      "cell_type": "markdown",
      "source": [
        "**3. What column seems to be an appropriate index for this data set? Do you see any problems with using this column as the index?**\n",
        "\n",
        "\n"
      ],
      "metadata": {
        "id": "IZZ9uNkHSTZy"
      }
    },
    {
      "cell_type": "code",
      "source": [
        "# [ ] # YOUR CODE HERE (if you want to further investigate the uniqueness of the 'name' column)\n",
        "# For instance, you might try:\n",
        "\n"
      ],
      "metadata": {
        "id": "Gqa7Sw5ZSYY7"
      },
      "execution_count": null,
      "outputs": []
    },
    {
      "cell_type": "markdown",
      "source": [
        "let’s set \"Name\" as the index and then extract a DataFrame with information about the members of the Widener family. The dataset has one of the Widener family: Only one person named\n",
        "\n",
        "\"Widener, Mr. Harry Elkins\"\n",
        "Use the following code to Set 'Name' as the index of the DataFrame\n",
        "`titanic_df.set_index(\"Name\", inplace=True)`"
      ],
      "metadata": {
        "id": "yRjdloSYSuJA"
      }
    },
    {
      "cell_type": "markdown",
      "source": [
        "**4. Extract rows corresponding to the Widener family**"
      ],
      "metadata": {
        "id": "37FtPEvNTEzP"
      }
    },
    {
      "cell_type": "code",
      "source": [],
      "metadata": {
        "id": "XdwCMNreTG10"
      },
      "execution_count": null,
      "outputs": []
    },
    {
      "cell_type": "markdown",
      "source": [
        "**5. Compute the Median Age of passengers.**\n",
        "\n",
        "Hint: Use the .median() method in pandas."
      ],
      "metadata": {
        "id": "3VmNbBwoV0KR"
      }
    },
    {
      "cell_type": "code",
      "source": [
        "\n"
      ],
      "metadata": {
        "id": "KI-7dmOdb-H9"
      },
      "execution_count": null,
      "outputs": []
    },
    {
      "cell_type": "markdown",
      "source": [
        "**6. Visualize the Age Distribution**:\n",
        "Create a histogram of the age variable to visualize its distribution."
      ],
      "metadata": {
        "id": "cAvKx4XJcDx5"
      }
    },
    {
      "cell_type": "code",
      "source": [
        "\n"
      ],
      "metadata": {
        "id": "gWU6KqwUewpB"
      },
      "execution_count": null,
      "outputs": []
    },
    {
      "cell_type": "markdown",
      "source": [
        "\n",
        "**7. Calculate both the mean and the median of the fare column.**\n",
        "\n"
      ],
      "metadata": {
        "id": "z-7pC-Jve2F0"
      }
    },
    {
      "cell_type": "code",
      "source": [
        "# YOUR CODE HERE: Calculate and print mean and median fare\n"
      ],
      "metadata": {
        "id": "nqLkod7Ue6Cc"
      },
      "execution_count": null,
      "outputs": []
    },
    {
      "cell_type": "markdown",
      "source": [
        "**8. What does the difference between the mean and the median suggest about the fare distribution?**"
      ],
      "metadata": {
        "id": "ru5aiWuxheeX"
      }
    },
    {
      "cell_type": "markdown",
      "source": [
        "**9. Create a box plot to visualize the distribution of fares across different passenger classes (Pclass).**\n",
        "\n",
        "**10. What differences do you notice in the fare distributions among the classes?**"
      ],
      "metadata": {
        "id": "RUB5UGt9fAn-"
      }
    },
    {
      "cell_type": "markdown",
      "source": [
        "**11. Consider how the median fare and the spread of fares differ between classes. What might this indicate about the socio-economic differences among passengers?**\n",
        "\n"
      ],
      "metadata": {
        "id": "K7GSeF0ffL87"
      }
    },
    {
      "cell_type": "markdown",
      "source": [
        "**12. Survival Rate Analysis by Passenger Class:**\n",
        "Create a bar plot that shows the survival rate (i.e., proportion of survivors) for each passenger class. Use the `Pclass` and `Survived` columns to calculate the survival rate."
      ],
      "metadata": {
        "id": "Kva9GOONfdpk"
      }
    },
    {
      "cell_type": "markdown",
      "source": [],
      "metadata": {
        "id": "-okC_HeUfjHY"
      }
    },
    {
      "cell_type": "code",
      "source": [
        "# YOUR CODE HERE: Calculate survival rate per class and create a bar plot\n"
      ],
      "metadata": {
        "id": "k32R8qnpfwB7"
      },
      "execution_count": null,
      "outputs": []
    },
    {
      "cell_type": "markdown",
      "source": [
        "\n",
        "**13. What insights can you derive regarding the relationship between passenger class and survival rate?**\n",
        "\n"
      ],
      "metadata": {
        "id": "knxAXl9of4Rf"
      }
    },
    {
      "cell_type": "markdown",
      "source": [
        "**14. Correlation Analysis Using Point Biserial Correlation**:\n",
        "For a continuous variable like fare or age and the binary target survived, compute the point biserial correlation. Use `scipy.stats.pointbiserialr` for this task."
      ],
      "metadata": {
        "id": "ceHyVARZgCu6"
      }
    },
    {
      "cell_type": "code",
      "source": [
        "from scipy.stats import pointbiserialr\n",
        "\n",
        "# YOUR CODE HERE: Compute point biserial correlation between age and survived\n",
        "\n",
        "\n",
        "# YOUR CODE HERE: Compute point biserial correlation between fare and survived\n",
        "\n"
      ],
      "metadata": {
        "id": "MRd_2eMTgLil"
      },
      "execution_count": null,
      "outputs": []
    },
    {
      "cell_type": "markdown",
      "source": [
        "**15. How strong are the associations between age/fare and survival? What might these correlations indicate about survival likelihood?**"
      ],
      "metadata": {
        "id": "2hsiQViFgRbB"
      }
    },
    {
      "cell_type": "code",
      "source": [],
      "metadata": {
        "id": "JVU0GuVbgMM8"
      },
      "execution_count": null,
      "outputs": []
    },
    {
      "cell_type": "markdown",
      "source": [],
      "metadata": {
        "id": "ylClocImgL83"
      }
    }
  ]
}